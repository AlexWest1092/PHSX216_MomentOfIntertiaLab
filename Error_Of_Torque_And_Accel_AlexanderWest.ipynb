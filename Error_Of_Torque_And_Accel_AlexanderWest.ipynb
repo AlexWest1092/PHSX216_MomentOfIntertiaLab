{
 "cells": [
  {
   "cell_type": "code",
   "execution_count": 16,
   "metadata": {},
   "outputs": [
    {
     "name": "stdout",
     "output_type": "stream",
     "text": [
      "m, dt, da\n",
      "25 g:\n",
      "0.00012668487516614329\n",
      "0.004832784330425729\n",
      "\n",
      "45 g:\n",
      "5.859412501193836e-05\n",
      "0.003576188412611238\n",
      "\n",
      "65 g:\n",
      "0.0001068225905093596\n",
      "0.007952762131667169\n",
      "\n",
      "85 g:\n",
      "8.990898496762041e-05\n",
      "0.007368766783353744\n",
      "\n",
      "105 g:\n",
      "7.01439229598163e-05\n",
      "0.005998337354027775\n"
     ]
    }
   ],
   "source": [
    "import numpy as np\n",
    "\n",
    "#Error Multiplied By A Number\n",
    "#Q = cA\n",
    "def rule1(c, dA):\n",
    "    dQ = np.abs(c)*dA\n",
    "    return dQ\n",
    "\n",
    "#Error with a Power (includings multiplication of a constant)\n",
    "#Q = cA^m\n",
    "def rule2(c, A, dA, m):\n",
    "    dQ = np.abs(c*m*A**(m-1))*dA\n",
    "    return dQ\n",
    "\n",
    "#Addition/Subtraction\n",
    "#Q = A + B or Q = A - B\n",
    "def rule3(dA, dB):\n",
    "    dQ = np.sqrt(dA**2 + dB**2)\n",
    "    return dQ\n",
    "\n",
    "#Multiplication between Errors (including multiplication of a constant and Powers)\n",
    "#Q = c*A^m*B^n\n",
    "def rule4(Q, A, dA, m, B, dB, n):\n",
    "    dQ = np.abs(Q)*np.sqrt((m*(dA/A))**2+(n*(dB/B))**2)\n",
    "    return dQ\n",
    "\n",
    "def rule4_3Vars(Q, A, dA, m, B, dB, n, C, dC, o):\n",
    "    dQ = np.abs(Q)*np.sqrt((m*(dA/A))**2+(n*(dB/B))**2+(o*(dC/C))**2)\n",
    "    return dQ\n",
    "\n",
    "r=.0152\n",
    "dr=2*10**-5\n",
    "dm=1*10**-4\n",
    "\n",
    "print(\"m, dt, da\")\n",
    "print(\"25 g:\")\n",
    "print(rule4_3Vars(3.72*10**-3,r,dr,1,.025,dm,1,2.172*10**-3,7.34*10**-5,1))\n",
    "print(rule4(.1429,2.172*10**-3,7.34*10**-5,1,r,dr,-1))\n",
    "print(\"\")\n",
    "print(\"45 g:\")\n",
    "print(rule4_3Vars(6.7*10**-3,r,dr,1,.045,dm,1,6.427*10**-3,5.37*10**-5,1))\n",
    "print(rule4(.4228,6.427*10**-3,5.37*10**-5,1,r,dr,-1))\n",
    "print(\"\")\n",
    "print(\"65 g:\")\n",
    "print(rule4_3Vars(9.67*10**-3,r,dr,1,.065,dm,1,1.105*10**-2,1.2*10**-4,1))\n",
    "print(rule4(.727,1.105*10**-2,1.2*10**-4,1,r,dr,-1))\n",
    "print(\"\")\n",
    "print(\"85 g:\")\n",
    "print(rule4_3Vars(1.26*10**-2,r,dr,1,.085,dm,1,1.591*10**-2,1.1*10**-4,1))\n",
    "print(rule4(1.047,1.591*10**-2,1.1*10**-4,1,r,dr,-1))\n",
    "print(\"\")\n",
    "print(\"105 g:\")\n",
    "print(rule4_3Vars(1.56*10**-2,r,dr,1,.105,dm,1,2.075*10**-2,8.7*10**-5,1))\n",
    "print(rule4(1.365,2.075*10**-2,8.7*10**-5,1,r,dr,-1))"
   ]
  },
  {
   "cell_type": "code",
   "execution_count": null,
   "metadata": {},
   "outputs": [],
   "source": []
  },
  {
   "cell_type": "code",
   "execution_count": null,
   "metadata": {},
   "outputs": [],
   "source": []
  }
 ],
 "metadata": {
  "kernelspec": {
   "display_name": "Python 3",
   "language": "python",
   "name": "python3"
  },
  "language_info": {
   "codemirror_mode": {
    "name": "ipython",
    "version": 3
   },
   "file_extension": ".py",
   "mimetype": "text/x-python",
   "name": "python",
   "nbconvert_exporter": "python",
   "pygments_lexer": "ipython3",
   "version": "3.7.6"
  }
 },
 "nbformat": 4,
 "nbformat_minor": 4
}
